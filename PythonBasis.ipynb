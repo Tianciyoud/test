{
 "cells": [
  {
   "cell_type": "code",
   "execution_count": 2,
   "id": "08fbbe59-ab56-4493-89b9-8c178a38d890",
   "metadata": {},
   "outputs": [
    {
     "name": "stdout",
     "output_type": "stream",
     "text": [
      "3.14\n",
      "<class 'str'>\n"
     ]
    }
   ],
   "source": [
    "x = 3.14\n",
    "y = str(x)\n",
    "print(y)\n",
    "print(type(y))"
   ]
  },
  {
   "cell_type": "code",
   "execution_count": 4,
   "id": "59ecd2b8-2e84-4b2c-bbaf-94029525c801",
   "metadata": {},
   "outputs": [
    {
     "name": "stdout",
     "output_type": "stream",
     "text": [
      "3.14\n",
      "3\n",
      "<class 'float'>\n",
      "<class 'int'>\n"
     ]
    }
   ],
   "source": [
    "x = 3.14\n",
    "y = str(x)\n",
    "z1 = float(y)\n",
    "print(z1)\n",
    "z2 = int(y[0:y.find('.')])\n",
    "print(z2)\n",
    "print(type(z1))\n",
    "print(type(z2))"
   ]
  },
  {
   "cell_type": "code",
   "execution_count": 6,
   "id": "f35f7077-e901-42ce-a4de-8e006f97bf41",
   "metadata": {},
   "outputs": [
    {
     "name": "stdout",
     "output_type": "stream",
     "text": [
      "<class 'tuple'>\n",
      "[1, 1.32, 2, 'CUC']\n"
     ]
    }
   ],
   "source": [
    "tuple1 = (1,1.32,2,'CUC')\n",
    "print(tuple)\n",
    "list1 = [1,1.32,2,'CUC']\n",
    "print(list1)"
   ]
  },
  {
   "cell_type": "code",
   "execution_count": 8,
   "id": "53202c7e-2c0a-454f-b2f1-42a09ebbaff1",
   "metadata": {},
   "outputs": [
    {
     "name": "stdout",
     "output_type": "stream",
     "text": [
      "[1, 2, 3, 4, 5]\n"
     ]
    }
   ],
   "source": [
    "myList = [1,2,3,5,4]\n",
    "print(sorted(myList))"
   ]
  },
  {
   "cell_type": "code",
   "execution_count": 10,
   "id": "84b1a7d5-7726-477b-ae6f-7e146d9ae665",
   "metadata": {},
   "outputs": [
    {
     "name": "stdout",
     "output_type": "stream",
     "text": [
      "[100, 95, 85, 60, 65, 70]\n",
      "60\n",
      "[100, 95, 85, 60, 65, 70, 50]\n"
     ]
    }
   ],
   "source": [
    "score_list = [100,95,85,60,65,70]\n",
    "print(score_list)\n",
    "print(score_list[3])\n",
    "score_list.append(50)\n",
    "print(score_list)"
   ]
  },
  {
   "cell_type": "code",
   "execution_count": 12,
   "id": "96fe096d-9223-41b5-b5f9-c1b2b9951860",
   "metadata": {},
   "outputs": [
    {
     "name": "stdout",
     "output_type": "stream",
     "text": [
      "[60, 65, 70]\n",
      "[100, 95, 85, 60, 65, 70]\n"
     ]
    }
   ],
   "source": [
    "del(score_list[6])\n",
    "print(score_list[3:7])\n",
    "print(score_list)"
   ]
  },
  {
   "cell_type": "code",
   "execution_count": 14,
   "id": "d7053edb-7783-4412-b7d1-df0eb5a895fd",
   "metadata": {},
   "outputs": [
    {
     "name": "stdout",
     "output_type": "stream",
     "text": [
      "[100, 95, 85, 60, 65, 70, [1, 2, 3, 'I am from CUC', True]]\n"
     ]
    }
   ],
   "source": [
    "score_list.append([1,2,3,'I am from CUC',True])\n",
    "print(score_list)"
   ]
  },
  {
   "cell_type": "code",
   "execution_count": 16,
   "id": "36a2e490-3385-4232-888b-a031e64e6d06",
   "metadata": {},
   "outputs": [
    {
     "name": "stdout",
     "output_type": "stream",
     "text": [
      "[100, 95, 85, 60, 65, 70, [1, 2, 3, 'I am from CUC', True], [11, 22, 33, [44, 55, 66]]]\n"
     ]
    }
   ],
   "source": [
    "second_list=[11,22,33]\n",
    "second_list.append([44,55,66])\n",
    "score_list.append(second_list)\n",
    "print(score_list)"
   ]
  },
  {
   "cell_type": "code",
   "execution_count": 18,
   "id": "2205ef69-ace1-4e2b-b041-1a28b370128b",
   "metadata": {},
   "outputs": [
    {
     "name": "stdout",
     "output_type": "stream",
     "text": [
      "[95, 85, 60, 65, 70, [1, 2, 3, 'I am from CUC', True], [11, 22, 33, [44, 55, 66]]]\n"
     ]
    }
   ],
   "source": [
    "score_list.remove(100)\n",
    "print(score_list)"
   ]
  },
  {
   "cell_type": "code",
   "execution_count": 22,
   "id": "a69c980e-cf7e-460f-93a2-32223d0bb490",
   "metadata": {},
   "outputs": [
    {
     "name": "stdout",
     "output_type": "stream",
     "text": [
      "{'Peter': 80, 'David': 90, 'Mary': 100}\n",
      "dict_keys(['Peter', 'David', 'Mary'])\n",
      "dict_values([80, 90, 100])\n",
      "90\n",
      "[{'Peter': 80, 'David': 90, 'Mary': 100}]\n"
     ]
    }
   ],
   "source": [
    "dict1 = {'Peter':80,'David':90,'Mary':100}\n",
    "print(dict1)\n",
    "print(dict1.keys())\n",
    "print(dict1.values())\n",
    "print(dict1['David'])\n",
    "score_list =[]\n",
    "score_list.append(dict1)\n",
    "print(score_list)"
   ]
  },
  {
   "cell_type": "code",
   "execution_count": 26,
   "id": "fc617bee-0fea-4393-8f87-a9e969c6f704",
   "metadata": {},
   "outputs": [
    {
     "name": "stdout",
     "output_type": "stream",
     "text": [
      "[{'Peter': 50, 'David': 60, 'Mary': 70}, {'Peter': 50, 'David': 70, 'Mary': 80}]\n"
     ]
    }
   ],
   "source": [
    "test1 = {'Peter':50,'David':60,'Mary':70}\n",
    "assignment1 = {'Peter':50,'David':70,'Mary':80}\n",
    "score_list = []\n",
    "score_list.append(test1)\n",
    "score_list.append(assignment1)\n",
    "print(score_list)"
   ]
  },
  {
   "cell_type": "code",
   "execution_count": 30,
   "id": "dc74ef8f-4d6e-45fe-bbf7-1ffc6f16aeef",
   "metadata": {},
   "outputs": [
    {
     "name": "stdout",
     "output_type": "stream",
     "text": [
      "{1, (1, 2, 3), 'Hello'}\n",
      "<class 'set'>\n"
     ]
    }
   ],
   "source": [
    "my_set = {1,'Hello',(1,2,3)}\n",
    "print(my_set)\n",
    "print(type(my_set))"
   ]
  },
  {
   "cell_type": "code",
   "execution_count": 32,
   "id": "7c1be64e-7e26-4724-a7f5-93d4860161dc",
   "metadata": {},
   "outputs": [
    {
     "name": "stdout",
     "output_type": "stream",
     "text": [
      "{1, 2, 3, 4, 5}\n"
     ]
    }
   ],
   "source": [
    "my_set = {1,2,2,3,4,4,5}\n",
    "print(my_set)"
   ]
  },
  {
   "cell_type": "code",
   "execution_count": 34,
   "id": "6abc49ed-08f8-4def-8b48-379f6f2d4149",
   "metadata": {},
   "outputs": [
    {
     "name": "stdout",
     "output_type": "stream",
     "text": [
      "1\n",
      "2\n",
      "3\n",
      "4\n",
      "5\n",
      "6\n",
      "7\n",
      "8\n",
      "9\n"
     ]
    }
   ],
   "source": [
    "i = 1\n",
    "for i in range(1,10):\n",
    "    print(i)"
   ]
  },
  {
   "cell_type": "code",
   "execution_count": 36,
   "id": "d7284c9e-078a-45e7-9cd5-3d2f438b4e89",
   "metadata": {},
   "outputs": [
    {
     "name": "stdout",
     "output_type": "stream",
     "text": [
      "Johnmakes1950.\n",
      "Mikemakes3000.\n",
      "Marymakes3250.\n",
      "Janemakes4500.\n"
     ]
    }
   ],
   "source": [
    "hrs_list = [30,40,50,60]\n",
    "rate_list = [65,75,65,75]\n",
    "name_list = ['John','Mike','Mary','Jane']\n",
    "fee_list = []\n",
    "for number in range(len(name_list)):\n",
    "    hrs = hrs_list[number]\n",
    "    rate = rate_list[number]\n",
    "    fee = hrs*rate\n",
    "    fee_list.append(fee)\n",
    "    money_made = name_list[number] + 'makes' + str(fee) + '.'\n",
    "    print(money_made)"
   ]
  },
  {
   "cell_type": "code",
   "execution_count": 38,
   "id": "307a8cbf-0384-4295-a882-c807790dd9d8",
   "metadata": {},
   "outputs": [
    {
     "name": "stdout",
     "output_type": "stream",
     "text": [
      "[['John', 'Mike', 'Mary', 'Jane'], [1950, 3000, 3250, 4500]]\n"
     ]
    }
   ],
   "source": [
    "money_list = []\n",
    "money_list.append(name_list)\n",
    "money_list.append(fee_list)\n",
    "print(money_list)"
   ]
  },
  {
   "cell_type": "code",
   "execution_count": 40,
   "id": "98eaf47a-6196-4774-a80a-176433e7b414",
   "metadata": {},
   "outputs": [
    {
     "name": "stdout",
     "output_type": "stream",
     "text": [
      "0 red\n",
      "1 green\n",
      "2 Blue is printed.\n",
      "3 orange\n",
      "4 black\n",
      "That is done.\n"
     ]
    }
   ],
   "source": [
    "my_list = ['red','green','blue','orange','black']\n",
    "index = 0\n",
    "for i in my_list:\n",
    "    if i =='blue':\n",
    "        print(index,'Blue is printed.')\n",
    "        index+=1\n",
    "    else:\n",
    "        print(index,my_list[index])\n",
    "        index = index+1\n",
    "print('That is done.')"
   ]
  },
  {
   "cell_type": "code",
   "execution_count": 44,
   "id": "fca3651a-2707-4e73-becf-c13f8a3299e4",
   "metadata": {},
   "outputs": [
    {
     "name": "stdout",
     "output_type": "stream",
     "text": [
      "   Product ID  Product Name   Color  Units sold\n",
      "0            1      T-shirt    Blue         250\n",
      "1            2        Shirt   Green         300\n",
      "2            3        Jeans     Red         180\n",
      "3            4         Coat  Trench         200\n"
     ]
    }
   ],
   "source": [
    "import pandas as pd\n",
    "df1 = pd.DataFrame({\n",
    "    'Product ID ':[1,2,3,4],\n",
    "    'Product Name':['T-shirt','Shirt','Jeans','Coat'],\n",
    "    'Color':['Blue','Green','Red','Trench'],\n",
    "    'Units sold':[250,300,180,200]\n",
    "})\n",
    "print(df1)"
   ]
  },
  {
   "cell_type": "code",
   "execution_count": null,
   "id": "7138f506-42d4-4de6-a5e0-d557aac1da0e",
   "metadata": {},
   "outputs": [],
   "source": []
  }
 ],
 "metadata": {
  "kernelspec": {
   "display_name": "anaconda-panel-2023.05-py310",
   "language": "python",
   "name": "conda-env-anaconda-panel-2023.05-py310-py"
  },
  "language_info": {
   "codemirror_mode": {
    "name": "ipython",
    "version": 3
   },
   "file_extension": ".py",
   "mimetype": "text/x-python",
   "name": "python",
   "nbconvert_exporter": "python",
   "pygments_lexer": "ipython3",
   "version": "3.11.5"
  }
 },
 "nbformat": 4,
 "nbformat_minor": 5
}
